{
 "cells": [
  {
   "cell_type": "code",
   "execution_count": 1,
   "id": "a793feb1",
   "metadata": {},
   "outputs": [],
   "source": [
    "import numpy as np\n",
    "import pandas as pd"
   ]
  },
  {
   "cell_type": "code",
   "execution_count": 2,
   "id": "12a519a8",
   "metadata": {},
   "outputs": [
    {
     "name": "stdout",
     "output_type": "stream",
     "text": [
      "../data/nature24473_MOESM4_neoantigens.xlsx\r\n",
      "../data/nature24473_MOESM5_survival.xlsx\r\n"
     ]
    }
   ],
   "source": [
    "# patient survival and neoantigen prediction: \n",
    "#     A neoantigen fitness model predicts tumour response to checkpoint blockade immunotherapy \n",
    "#     https://www.ncbi.nlm.nih.gov/pmc/articles/PMC6137806/\n",
    "!ls ../data/nature*.xlsx"
   ]
  },
  {
   "cell_type": "code",
   "execution_count": 3,
   "id": "6a22a6d9",
   "metadata": {},
   "outputs": [],
   "source": [
    "cohort_names = [\n",
    "    \"VanAllen\",\n",
    "    \"Snyder\",\n",
    "    \"Rizvi\",\n",
    "]"
   ]
  },
  {
   "cell_type": "code",
   "execution_count": 4,
   "id": "96f6ed8f",
   "metadata": {},
   "outputs": [
    {
     "name": "stdout",
     "output_type": "stream",
     "text": [
      "Loading survival data for VanAllen...\n",
      "Loading survival data for Snyder...\n",
      "Loading survival data for Rizvi...\n"
     ]
    },
    {
     "name": "stderr",
     "output_type": "stream",
     "text": [
      "/Users/iskander/miniconda3/lib/python3.10/site-packages/openpyxl/worksheet/_reader.py:329: UserWarning: Unknown extension is not supported and will be removed\n",
      "  warn(msg)\n",
      "/Users/iskander/miniconda3/lib/python3.10/site-packages/openpyxl/worksheet/_reader.py:329: UserWarning: Unknown extension is not supported and will be removed\n",
      "  warn(msg)\n",
      "/Users/iskander/miniconda3/lib/python3.10/site-packages/openpyxl/worksheet/_reader.py:329: UserWarning: Unknown extension is not supported and will be removed\n",
      "  warn(msg)\n"
     ]
    },
    {
     "data": {
      "text/html": [
       "<div>\n",
       "<style scoped>\n",
       "    .dataframe tbody tr th:only-of-type {\n",
       "        vertical-align: middle;\n",
       "    }\n",
       "\n",
       "    .dataframe tbody tr th {\n",
       "        vertical-align: top;\n",
       "    }\n",
       "\n",
       "    .dataframe thead th {\n",
       "        text-align: right;\n",
       "    }\n",
       "</style>\n",
       "<table border=\"1\" class=\"dataframe\">\n",
       "  <thead>\n",
       "    <tr style=\"text-align: right;\">\n",
       "      <th></th>\n",
       "      <th>Sample</th>\n",
       "      <th>Months</th>\n",
       "      <th>Status</th>\n",
       "      <th>Cohort</th>\n",
       "    </tr>\n",
       "  </thead>\n",
       "  <tbody>\n",
       "    <tr>\n",
       "      <th>0</th>\n",
       "      <td>Pat02</td>\n",
       "      <td>53.654736</td>\n",
       "      <td>False</td>\n",
       "      <td>VanAllen</td>\n",
       "    </tr>\n",
       "    <tr>\n",
       "      <th>1</th>\n",
       "      <td>Pat03</td>\n",
       "      <td>3.287668</td>\n",
       "      <td>True</td>\n",
       "      <td>VanAllen</td>\n",
       "    </tr>\n",
       "    <tr>\n",
       "      <th>2</th>\n",
       "      <td>Pat04</td>\n",
       "      <td>32.449280</td>\n",
       "      <td>False</td>\n",
       "      <td>VanAllen</td>\n",
       "    </tr>\n",
       "    <tr>\n",
       "      <th>3</th>\n",
       "      <td>Pat06</td>\n",
       "      <td>5.293145</td>\n",
       "      <td>True</td>\n",
       "      <td>VanAllen</td>\n",
       "    </tr>\n",
       "    <tr>\n",
       "      <th>4</th>\n",
       "      <td>Pat08</td>\n",
       "      <td>4.602735</td>\n",
       "      <td>True</td>\n",
       "      <td>VanAllen</td>\n",
       "    </tr>\n",
       "    <tr>\n",
       "      <th>...</th>\n",
       "      <td>...</td>\n",
       "      <td>...</td>\n",
       "      <td>...</td>\n",
       "      <td>...</td>\n",
       "    </tr>\n",
       "    <tr>\n",
       "      <th>29</th>\n",
       "      <td>GR0134</td>\n",
       "      <td>21.900000</td>\n",
       "      <td>False</td>\n",
       "      <td>Rizvi</td>\n",
       "    </tr>\n",
       "    <tr>\n",
       "      <th>30</th>\n",
       "      <td>VA1330</td>\n",
       "      <td>23.400000</td>\n",
       "      <td>True</td>\n",
       "      <td>Rizvi</td>\n",
       "    </tr>\n",
       "    <tr>\n",
       "      <th>31</th>\n",
       "      <td>NI9507</td>\n",
       "      <td>27.900000</td>\n",
       "      <td>False</td>\n",
       "      <td>Rizvi</td>\n",
       "    </tr>\n",
       "    <tr>\n",
       "      <th>32</th>\n",
       "      <td>AU5884</td>\n",
       "      <td>2.400000</td>\n",
       "      <td>True</td>\n",
       "      <td>Rizvi</td>\n",
       "    </tr>\n",
       "    <tr>\n",
       "      <th>33</th>\n",
       "      <td>VA7859</td>\n",
       "      <td>16.100000</td>\n",
       "      <td>False</td>\n",
       "      <td>Rizvi</td>\n",
       "    </tr>\n",
       "  </tbody>\n",
       "</table>\n",
       "<p>201 rows × 4 columns</p>\n",
       "</div>"
      ],
      "text/plain": [
       "    Sample     Months  Status    Cohort\n",
       "0    Pat02  53.654736   False  VanAllen\n",
       "1    Pat03   3.287668    True  VanAllen\n",
       "2    Pat04  32.449280   False  VanAllen\n",
       "3    Pat06   5.293145    True  VanAllen\n",
       "4    Pat08   4.602735    True  VanAllen\n",
       "..     ...        ...     ...       ...\n",
       "29  GR0134  21.900000   False     Rizvi\n",
       "30  VA1330  23.400000    True     Rizvi\n",
       "31  NI9507  27.900000   False     Rizvi\n",
       "32  AU5884   2.400000    True     Rizvi\n",
       "33  VA7859  16.100000   False     Rizvi\n",
       "\n",
       "[201 rows x 4 columns]"
      ]
     },
     "execution_count": 4,
     "metadata": {},
     "output_type": "execute_result"
    }
   ],
   "source": [
    "\n",
    "survival_dataframes = []\n",
    "for s in cohort_names:\n",
    "    print(\"Loading survival data for %s...\" % (s,))\n",
    "    df = pd.read_excel(\"../data/nature24473_MOESM5_survival.xlsx\", sheet_name=\"Survival %s et al.\" % s)\n",
    "    # convert 0/1 to False/True\n",
    "    df[\"Status\"] = df[\"Status\"].astype(bool)\n",
    "    df[\"Cohort\"] = s\n",
    "    survival_dataframes.append(df)\n",
    "    \n",
    "df_survival = pd.concat(survival_dataframes);\n",
    "df_survival"
   ]
  },
  {
   "cell_type": "code",
   "execution_count": null,
   "id": "0e18e2e4",
   "metadata": {},
   "outputs": [
    {
     "name": "stdout",
     "output_type": "stream",
     "text": [
      "Loading neoantigens data for VanAllen...\n"
     ]
    }
   ],
   "source": [
    "neoag_dataframes = []\n",
    "for s in cohort_names:\n",
    "    print(\"Loading neoantigens data for %s...\" % (s,))\n",
    "    df = pd.read_excel(\"../data/nature24473_MOESM4_neoantigens.xlsx\", sheet_name=s + \" et al.\")\n",
    "    df[\"Cohort\"] = s\n",
    "    neoag_dataframes.append(df)\n",
    "    \n",
    "df_neoag = pd.concat(neoag_dataframes);\n",
    "df_neoag"
   ]
  },
  {
   "cell_type": "code",
   "execution_count": null,
   "id": "5e546cb1",
   "metadata": {},
   "outputs": [],
   "source": [
    "# which patients are in the survival data but missing from the neoantigen data?\n",
    "sorted(set(df_survival.Sample).difference(df_neoag.Sample))"
   ]
  },
  {
   "cell_type": "code",
   "execution_count": null,
   "id": "6dbd0224",
   "metadata": {},
   "outputs": [],
   "source": [
    "# conversely, which patients are in the neoantigen data but missing from the survival data?\n",
    "sorted(set(df_neoag.Sample).difference(df_survival.Sample))"
   ]
  },
  {
   "cell_type": "code",
   "execution_count": null,
   "id": "c00817a9",
   "metadata": {},
   "outputs": [],
   "source": [
    "len(set(df_survival.Sample))"
   ]
  },
  {
   "cell_type": "code",
   "execution_count": null,
   "id": "e1d15eb8",
   "metadata": {},
   "outputs": [],
   "source": [
    "len(set(df_neoag.Sample))"
   ]
  },
  {
   "cell_type": "code",
   "execution_count": null,
   "id": "d2c7c587",
   "metadata": {},
   "outputs": [],
   "source": [
    "!pip install lifelines "
   ]
  },
  {
   "cell_type": "code",
   "execution_count": null,
   "id": "01304088",
   "metadata": {},
   "outputs": [],
   "source": [
    "# \"fit\" the survival model\n",
    "\n",
    "from lifelines import KaplanMeierFitter\n",
    "\n",
    "kmf = KaplanMeierFitter()\n",
    "\n",
    "kmf.fit(df_survival.Months, event_observed=df_survival.Status.astype(bool))"
   ]
  },
  {
   "cell_type": "code",
   "execution_count": null,
   "id": "f8e983da",
   "metadata": {},
   "outputs": [],
   "source": [
    "# plot the survival curve for the joint cohort\n",
    "kmf.plot_survival_function()\n"
   ]
  },
  {
   "cell_type": "code",
   "execution_count": null,
   "id": "e57985f7",
   "metadata": {},
   "outputs": [],
   "source": [
    "# plot survival curves for the three cohorts\n",
    "import matplotlib.pyplot as plt\n",
    "from lifelines import KaplanMeierFitter\n",
    "ax = plt.subplot(111)\n",
    "kmf_cohorts = KaplanMeierFitter()\n",
    "\n",
    "for s in cohort_names:\n",
    "    cohort_mask = df_survival.Cohort == s\n",
    "    print(\"%d rows for %s\" % (cohort_mask.sum(), s))\n",
    "    df_survival_cohort = df_survival[cohort_mask]\n",
    "    kmf_cohorts.fit(df_survival_cohort.Months, \n",
    "            event_observed=df_survival_cohort.Status, \n",
    "            label=s)\n",
    "    \n",
    "    kmf_cohorts.plot_survival_function(ax=ax)\n"
   ]
  },
  {
   "cell_type": "code",
   "execution_count": null,
   "id": "47d9bcc7",
   "metadata": {},
   "outputs": [],
   "source": [
    "# plot survival curves with at-risk counts below \n",
    "\n",
    "import matplotlib.pyplot as plt\n",
    "from lifelines import KaplanMeierFitter\n",
    "ax = plt.subplot(111)\n",
    "kmfs = []\n",
    "\n",
    "for s in cohort_names:\n",
    "    cohort_mask = df_survival.Cohort == s\n",
    "    df_survival_cohort = df_survival[cohort_mask]\n",
    "    kmf = KaplanMeierFitter()\n",
    "\n",
    "    kmf.fit(df_survival_cohort.Months, \n",
    "            event_observed=df_survival_cohort.Status, \n",
    "            label=s)\n",
    "    kmf.plot_survival_function(ax=ax)\n",
    "    kmfs.append(kmf)\n",
    "\n",
    "from lifelines.plotting import add_at_risk_counts\n",
    "add_at_risk_counts(*kmfs, ax=ax)\n",
    "plt.tight_layout()\n",
    "    "
   ]
  },
  {
   "cell_type": "code",
   "execution_count": null,
   "id": "08a744b2",
   "metadata": {},
   "outputs": [],
   "source": [
    "# are the VanAllen and Snyder curves different?\n",
    "\n",
    "from lifelines.statistics import logrank_test\n",
    "\n",
    "results = logrank_test(\n",
    "    df_survival[df_survival.Cohort == \"VanAllen\"].Months,\n",
    "    df_survival[df_survival.Cohort == \"Snyder\"].Months,\n",
    "    event_observed_A=df_survival[df_survival.Cohort == \"VanAllen\"].Status, \n",
    "    event_observed_B=df_survival[df_survival.Cohort == \"Snyder\"].Status)\n",
    "\n",
    "results.print_summary()\n",
    "print(results.p_value)   "
   ]
  },
  {
   "cell_type": "code",
   "execution_count": null,
   "id": "f05d1f4b",
   "metadata": {},
   "outputs": [],
   "source": [
    "# count the neoantigen predictions per patient\n",
    "\n",
    "neoags_per_patient = df_neoag.Sample.value_counts();\n",
    "neoags_per_patient.name = \"NeoAgCount\"\n",
    "neoags_per_patient"
   ]
  },
  {
   "cell_type": "code",
   "execution_count": null,
   "id": "893b69ba",
   "metadata": {},
   "outputs": [],
   "source": [
    "df_pred = df_survival.set_index(\"Sample\").join([neoags_per_patient], how=\"inner\");\n",
    "df_pred"
   ]
  },
  {
   "cell_type": "code",
   "execution_count": null,
   "id": "0deade18",
   "metadata": {},
   "outputs": [],
   "source": [
    "# remember that 3 patients with survival data are missing from the neoantigen table\n",
    "\n",
    "len(df_pred), len(df_survival)"
   ]
  },
  {
   "cell_type": "code",
   "execution_count": null,
   "id": "3fdd70d8",
   "metadata": {},
   "outputs": [],
   "source": [
    "# if a patient is missing from the prediction set make their value 0\n",
    "df_pred = df_survival.set_index(\"Sample\").join([neoags_per_patient], how=\"left\").fillna(0);\n",
    "df_pred"
   ]
  },
  {
   "cell_type": "code",
   "execution_count": null,
   "id": "4d960315",
   "metadata": {},
   "outputs": [],
   "source": [
    "# what's the median neoag count?\n",
    "df_pred.NeoAgCount.median()"
   ]
  },
  {
   "cell_type": "code",
   "execution_count": null,
   "id": "b5740716",
   "metadata": {},
   "outputs": [],
   "source": [
    "# plot survival curves for patients with above and below median neoAg predictions\n",
    "\n",
    "\n",
    "ax = plt.subplot(111)\n",
    "kmf = KaplanMeierFitter()\n",
    "\n",
    "threshold = df_pred.NeoAgCount.median()\n",
    "mask = df_pred.NeoAgCount > threshold\n",
    "\n",
    "df_yes = df_pred[mask]\n",
    "df_no = df_pred[~mask]\n",
    "\n",
    "kmf.fit(\n",
    "    df_yes.Months, \n",
    "    event_observed=df_yes.Status,\n",
    "    label=\"NeoAgCount > median (%d)\" % threshold)\n",
    "    \n",
    "kmf.plot_survival_function(ax=ax)\n",
    "\n",
    "kmf.fit(\n",
    "    df_no.Months, \n",
    "    event_observed=df_no.Status,\n",
    "    label=\"NeoAgCount <= median (%d)\" % threshold)\n",
    "    \n",
    "kmf.plot_survival_function(ax=ax)\n",
    "\n",
    "\n",
    "\n",
    "results = logrank_test(\n",
    "    df_yes.Months, \n",
    "    df_no.Months,\n",
    "    event_observed_A=df_yes.Status, \n",
    "    event_observed_B=df_no.Status)\n",
    "\n",
    "\n",
    "print(\"logrank p-value = %f\" % results.p_value)   "
   ]
  },
  {
   "cell_type": "code",
   "execution_count": null,
   "id": "04e2868b",
   "metadata": {},
   "outputs": [],
   "source": [
    "from tqdm import tqdm\n",
    "features = {}\n",
    "\n",
    "print(\"Generating amino acid count features...\")\n",
    "for aa1 in tqdm(\"ACDEFGHIKLMNPQRSTVWY\"):\n",
    "    \n",
    "    c1 = np.array([\n",
    "        p.count(aa1) for p in df_neoag[\"MT.Peptide\"]\n",
    "    ])\n",
    "    features[\"%s_count\" % aa1] = c1\n",
    "    for aa2 in \"ACDEFGHIKLMNPQRSTVWY\":\n",
    "        c2 = np.array([\n",
    "            p.count(aa2) for p in df_neoag[\"MT.Peptide\"]\n",
    "        ])\n",
    "        features[\"max_%s_%s_count\" % (aa1, aa2)] = np.maximum(c1, c2)\n",
    "        features[\"sum_%s_%s_count\" % (aa1, aa2)] = c1 + c2\n",
    "\n",
    "affinities = df_neoag[\"MT.Score\"]\n",
    "print(\"Combining amino acid counts with IC50 thresholds\")\n",
    "for ic50 in tqdm([10, 100]):\n",
    "    aff_mask = affinities <= ic50\n",
    "    for feature_name, feature_values in list(features.items()):\n",
    "        features[feature_name + \"_ic50_lt_%d\" % ic50] = feature_values * aff_mask\n",
    "        \n",
    "df_new_features = pd.DataFrame(features, index=df_neoag.index);\n",
    "df_new_features\n"
   ]
  },
  {
   "cell_type": "code",
   "execution_count": null,
   "id": "ccd41417",
   "metadata": {},
   "outputs": [],
   "source": [
    "df_neoag_extra = pd.concat([df_neoag, df_new_features], axis=1);\n",
    "df_neoag_extra"
   ]
  },
  {
   "cell_type": "code",
   "execution_count": null,
   "id": "3ffe447a",
   "metadata": {},
   "outputs": [],
   "source": [
    "best_p_value = 1.0\n",
    "best_df_survival_yes = None\n",
    "best_df_survival_no = None\n",
    "best_feature_name = None\n",
    "best_feature_threshold = None\n",
    "best_count_median = None\n",
    "\n",
    "\n",
    "for feature_name, feature_values in tqdm(features.items()):\n",
    "    unique_values = np.unique(feature_values)\n",
    "    if len(unique_values) > 1:\n",
    "        thresholds = unique_values[:-1]\n",
    "        for t in thresholds:\n",
    "            feature_mask = feature_values > t\n",
    "            n_rows = feature_mask.sum()\n",
    "            if n_rows < 10:\n",
    "                continue\n",
    "            df_neoag_yes = df_neoag[feature_mask]\n",
    "            \n",
    "            neoags_per_patient = df_neoag_yes.Sample.value_counts();\n",
    "            \n",
    "            neoags_per_patient.name = \"FilteredNeoAgCount\"\n",
    "            n_patients = len(neoags_per_patient)\n",
    "            if n_patients < 10: \n",
    "                continue\n",
    "        \n",
    "\n",
    "            # if a patient is missing from the prediction set make their value 0\n",
    "            df_pred = df_survival.set_index(\"Sample\").join([neoags_per_patient], how=\"left\").fillna(0);\n",
    "            \n",
    "            median_count = df_pred.FilteredNeoAgCount.median()\n",
    "            survival_mask = df_pred.FilteredNeoAgCount > median_count\n",
    "            \n",
    "            df_yes = df_pred[survival_mask]\n",
    "            df_no = df_pred[~survival_mask]\n",
    "            \n",
    "            results = logrank_test(\n",
    "                df_yes.Months, \n",
    "                df_no.Months,\n",
    "                event_observed_A=df_yes.Status, \n",
    "                event_observed_B=df_no.Status)\n",
    "\n",
    "            p_value = results.p_value\n",
    "            \n",
    "            if p_value < best_p_value:\n",
    "                \n",
    "                print(\"%s > %d (%d rows, %d non-zero patients)\" % (\n",
    "                    feature_name, \n",
    "                    t, \n",
    "                    n_rows, \n",
    "                    n_patients))\n",
    "\n",
    "                print(\"logrank p-value = %f\" % results.p_value)   \n",
    "                best_p_value = p_value\n",
    "                best_df_survival_yes = df_yes.copy()\n",
    "                best_df_survival_no = df_no.copy()\n",
    "                \n",
    "                best_feature_name = feature_name\n",
    "                best_feature_threshold = t\n",
    "                best_count_median = median_count"
   ]
  },
  {
   "cell_type": "code",
   "execution_count": null,
   "id": "759445b8",
   "metadata": {},
   "outputs": [],
   "source": [
    "ax = plt.subplot(111)\n",
    "kmf = KaplanMeierFitter()\n",
    "\n",
    "\n",
    "kmf.fit(\n",
    "    best_df_survival_yes.Months, \n",
    "    event_observed=best_df_survival_yes.Status,\n",
    "    label=\"count(%s > %d) > median (%d)\" % (best_feature_name, best_feature_threshold, best_count_median))\n",
    "    \n",
    "kmf.plot_survival_function(ax=ax)\n",
    "\n",
    "kmf.fit(\n",
    "    best_df_survival_no.Months, \n",
    "    event_observed=best_df_survival_no.Status,\n",
    "    label=\"count(%s > %d) <= median (%d)\" % (best_feature_name, best_feature_threshold, best_count_median))\n",
    "\n",
    "\n",
    "kmf.plot_survival_function(ax=ax)\n"
   ]
  },
  {
   "cell_type": "code",
   "execution_count": null,
   "id": "0f41f06f",
   "metadata": {},
   "outputs": [],
   "source": [
    "best_df_survival_yes[\"PatientHasFeatureAboveMedian\"] = True\n",
    "best_df_survival_no[\"PatientHasFeatureAboveMedian\"] = False\n",
    "best_df_survival = pd.concat([best_df_survival_yes, best_df_survival_no])\n",
    "\n"
   ]
  },
  {
   "cell_type": "code",
   "execution_count": null,
   "id": "aad73992",
   "metadata": {},
   "outputs": [],
   "source": [
    "!pip install seaborn"
   ]
  },
  {
   "cell_type": "code",
   "execution_count": null,
   "id": "8b3ee4af",
   "metadata": {},
   "outputs": [],
   "source": [
    "# look at the distribution of \"low\" vs \"high\" score groups\n",
    "import seaborn as sns\n",
    "sns.displot(data=best_df_survival, x=\"FilteredNeoAgCount\", hue=\"PatientHasFeatureAboveMedian\")"
   ]
  },
  {
   "cell_type": "code",
   "execution_count": null,
   "id": "02b9b678",
   "metadata": {},
   "outputs": [],
   "source": [
    "known_at_1yr = (best_df_survival.Months >= 12) | best_df_survival.Status\n",
    "known_at_18mo = (best_df_survival.Months >= 18) | best_df_survival.Status\n",
    "known_at_2yr = (best_df_survival.Months >= 24) | best_df_survival.Status\n",
    "known_at_3yr = (best_df_survival.Months >= 36) | best_df_survival.Status\n",
    "\n",
    "survived_1yr = best_df_survival.Months >= 12\n",
    "survived_18mo = best_df_survival.Months >= 18\n",
    "survived_2yr = best_df_survival.Months >= 24\n",
    "survived_3yr = best_df_survival.Months >= 36\n",
    "\n",
    "died_before_1yr = best_df_survival.Status & (best_df_survival.Months < 12)\n",
    "died_before_18mo = best_df_survival.Status & (best_df_survival.Months < 18)\n",
    "died_before_2yr = best_df_survival.Status & (best_df_survival.Months < 24)\n",
    "died_before_3yr = best_df_survival.Status & (best_df_survival.Months < 36)\n"
   ]
  },
  {
   "cell_type": "code",
   "execution_count": null,
   "id": "8255a2ca",
   "metadata": {},
   "outputs": [],
   "source": [
    "# correlation of score and survival at 1yrs \n",
    "np.corrcoef(survived_1yr[known_at_1yr], best_df_survival.FilteredNeoAgCount[known_at_1yr])"
   ]
  },
  {
   "cell_type": "code",
   "execution_count": null,
   "id": "5253bbc9",
   "metadata": {},
   "outputs": [],
   "source": [
    "# correlation of score and survival at 18mo \n",
    "np.corrcoef(survived_18mo[known_at_18mo], best_df_survival.FilteredNeoAgCount[known_at_18mo])"
   ]
  },
  {
   "cell_type": "code",
   "execution_count": null,
   "id": "2c082c23",
   "metadata": {},
   "outputs": [],
   "source": [
    "# correlation of score and survival at 2yrs \n",
    "np.corrcoef(survived_2yr[known_at_2yr], best_df_survival.FilteredNeoAgCount[known_at_2yr])"
   ]
  },
  {
   "cell_type": "code",
   "execution_count": null,
   "id": "2f481509",
   "metadata": {},
   "outputs": [],
   "source": [
    "# correlation of score and survival at 3yrs \n",
    "np.corrcoef(survived_3yr[known_at_3yr], best_df_survival.FilteredNeoAgCount[known_at_3yr])"
   ]
  },
  {
   "cell_type": "code",
   "execution_count": null,
   "id": "a788c7f2",
   "metadata": {},
   "outputs": [],
   "source": [
    "!pip install scikit-learn"
   ]
  },
  {
   "cell_type": "code",
   "execution_count": null,
   "id": "f8214991",
   "metadata": {},
   "outputs": [],
   "source": [
    "# extract out the feature as 2D NumPy array\n",
    "\n",
    "X = best_df_survival.FilteredNeoAgCount.values[:, None]\n",
    "\n",
    "# split the data into a training and testing dataset\n",
    "\n",
    "# let's use 2yr survival as a trade-off between strong signal without losing most of the patients\n",
    "known_mask = known_at_2yr\n",
    "survival_mask = survived_2yr[known_mask]\n",
    "\n",
    "train_mask = np.random.randn(known_mask.sum()) < 0\n",
    "test_mask = ~train_mask"
   ]
  },
  {
   "cell_type": "code",
   "execution_count": null,
   "id": "7a8f7486",
   "metadata": {},
   "outputs": [],
   "source": [
    "# also filter out rows where we don't know the status at 2yr\n",
    "\n",
    "X_known = X[known_mask]\n",
    "X_known_train = X_known[train_mask]\n",
    "X_known_test = X_known[test_mask]\n",
    "\n",
    "# using the median value from above for feature normalization and rescaling by dividing by 100 \n",
    "\n",
    "X_train =  (X_known_train - 4) \n",
    "X_test =  (X_known_test - 4)\n",
    "print(\"X_train = %s\" % (X_train,))\n",
    "print(\"X_test = %s\" % (X_test,))\n",
    "\n",
    "\n",
    "y_train = survival_mask[train_mask].values\n",
    "\n",
    "print(\"y_train = %s\" % (y_train,))\n",
    "y_test = survival_mask[test_mask].values\n",
    "print(\"y_test = %s\" % (y_test,))\n",
    "print(\"%d training samples (%0.2f%% survival), %d test samples (%0.2f%% survival)\" % (\n",
    "    len(X_train),\n",
    "    y_train.mean() * 100,\n",
    "    len(X_test),\n",
    "    y_test.mean() * 100\n",
    "))"
   ]
  },
  {
   "cell_type": "code",
   "execution_count": null,
   "id": "88734edf",
   "metadata": {},
   "outputs": [],
   "source": [
    "# let's fit a logistic regression on 3yr survival using just the feature we picked\n",
    "import sklearn.linear_model\n",
    "\n",
    "lr = sklearn.linear_model.LogisticRegression(penalty=None, fit_intercept=False)\n",
    "lr.fit(X_test, y_test)\n",
    "print(\"coef = \", lr.coef_)\n",
    "y_train_pred = lr.predict(X_train)\n",
    "y_test_pred = lr.predict(X_test)\n",
    "print(\"y_train=%s\" % (y_train,))\n",
    "print(\"y_train_pred=%s\" % (y_train_pred,))\n",
    "\n",
    "print(\"y_test=%s\" % (y_test,))\n",
    "print(\"y_test_pred=%s\" % (y_test_pred,))\n",
    "\n"
   ]
  },
  {
   "cell_type": "code",
   "execution_count": null,
   "id": "b8059fcf",
   "metadata": {},
   "outputs": [],
   "source": [
    "ax = plt.subplot(111)\n",
    "kmf = KaplanMeierFitter()\n",
    "\n",
    "\n",
    "best_df_known = best_df_survival[known_mask]\n",
    "\n",
    "df_yes = best_df_known[test_mask][y_test_pred]\n",
    "df_no = best_df_known[test_mask][~y_test_pred]\n",
    "\n",
    "kmf.fit(\n",
    "    df_yes.Months, \n",
    "    event_observed=df_yes.Status,\n",
    "    label=\"LogisticRegression > 0.5\")\n",
    "    \n",
    "kmf.plot_survival_function(ax=ax)\n",
    "\n",
    "kmf.fit(\n",
    "    df_no.Months, \n",
    "    event_observed=df_no.Status,\n",
    "    label=\"LogisticRegression <= 0.5\")\n",
    "\n",
    "kmf.plot_survival_function(ax=ax)\n",
    "\n",
    "\n",
    "\n",
    "results = logrank_test(\n",
    "    df_yes.Months, \n",
    "    df_no.Months,\n",
    "    event_observed_A=df_yes.Status, \n",
    "    event_observed_B=df_no.Status)\n",
    "\n",
    "\n",
    "print(\"p-value = %f\" % (results.p_value,))"
   ]
  },
  {
   "cell_type": "code",
   "execution_count": null,
   "id": "4b200c08",
   "metadata": {},
   "outputs": [],
   "source": []
  },
  {
   "cell_type": "code",
   "execution_count": null,
   "id": "e27bea5b",
   "metadata": {},
   "outputs": [],
   "source": []
  },
  {
   "cell_type": "code",
   "execution_count": null,
   "id": "635255a1",
   "metadata": {},
   "outputs": [],
   "source": []
  }
 ],
 "metadata": {
  "kernelspec": {
   "display_name": "Python 3 (ipykernel)",
   "language": "python",
   "name": "python3"
  },
  "language_info": {
   "codemirror_mode": {
    "name": "ipython",
    "version": 3
   },
   "file_extension": ".py",
   "mimetype": "text/x-python",
   "name": "python",
   "nbconvert_exporter": "python",
   "pygments_lexer": "ipython3",
   "version": "3.10.10"
  }
 },
 "nbformat": 4,
 "nbformat_minor": 5
}
